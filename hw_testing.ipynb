{
  "nbformat": 4,
  "nbformat_minor": 0,
  "metadata": {
    "colab": {
      "name": "hw_testing.ipynb",
      "provenance": [],
      "collapsed_sections": [],
      "toc_visible": true,
      "authorship_tag": "ABX9TyNweLma8bHVG9t9vg5Re7s0"
    },
    "kernelspec": {
      "name": "python3",
      "display_name": "Python 3"
    },
    "language_info": {
      "name": "python"
    },
    "accelerator": "GPU"
  },
  "cells": [
    {
      "cell_type": "markdown",
      "metadata": {
        "id": "bwexeQ1BXFJY"
      },
      "source": [
        "# Import packages"
      ]
    },
    {
      "cell_type": "code",
      "metadata": {
        "id": "V3oD8L4EB0tV"
      },
      "source": [
        "# Get torch modules and others.\n",
        "import torch\n",
        "import torch.nn as nn\n",
        "import torch.nn.functional as F\n",
        "import torch.optim as optim\n",
        "from torch.utils.data import Dataset, DataLoader\n",
        "import numpy as np\n",
        "import matplotlib.pyplot as plt\n",
        "from torchvision import transforms, utils, datasets\n",
        "from tqdm import tqdm\n",
        "import copy, math, time\n",
        "from torch.nn.parameter import Parameter\n",
        "from torch.autograd import Variable\n",
        "from PIL import Image\n",
        "import io, os, zipfile, csv\n",
        "from google.colab import files\n",
        "from torch.utils.data.sampler import SubsetRandomSampler\n",
        "import pdb"
      ],
      "execution_count": 1,
      "outputs": []
    },
    {
      "cell_type": "markdown",
      "metadata": {
        "id": "1S-1GiONXRey"
      },
      "source": [
        "# Alternate idea\n",
        "\n",
        "This idea involves using cv2 to find contours around figures in the image, then passing the part of the image with the figure through a normal convolutional network. Once we have the results from all the figures, we pass the tokens and positional data through a seq2seq model and proceed from there. "
      ]
    },
    {
      "cell_type": "code",
      "metadata": {
        "colab": {
          "base_uri": "https://localhost:8080/"
        },
        "id": "PK5Ea0cYKgVW",
        "outputId": "49114eb8-65bf-4ee5-d2e6-dbe0032debf6"
      },
      "source": [
        "import numpy as np\n",
        "dataset_size = 67\n",
        "indices = list(range(dataset_size))\n",
        "split = int(np.floor(.2 * dataset_size))\n",
        "print(indices)\n",
        "print(split)"
      ],
      "execution_count": null,
      "outputs": [
        {
          "output_type": "stream",
          "text": [
            "[0, 1, 2, 3, 4, 5, 6, 7, 8, 9, 10, 11, 12, 13, 14, 15, 16, 17, 18, 19, 20, 21, 22, 23, 24, 25, 26, 27, 28, 29, 30, 31, 32, 33, 34, 35, 36, 37, 38, 39, 40, 41, 42, 43, 44, 45, 46, 47, 48, 49, 50, 51, 52, 53, 54, 55, 56, 57, 58, 59, 60, 61, 62, 63, 64, 65, 66]\n",
            "13\n"
          ],
          "name": "stdout"
        }
      ]
    },
    {
      "cell_type": "code",
      "metadata": {
        "id": "rduEUzFvCl-4"
      },
      "source": [
        "class SymbolDataset(Dataset):\n",
        "  def __init__(self, zip_file='symbols.zip', size=45):\n",
        "    super(SymbolDataset, self).__init__()\n",
        "\n",
        "    self.train = train\n",
        "    extract_dir = os.path.splitext(zip_file)[0]\n",
        "    if not os.path.exists(extract_dir):\n",
        "      os.makedirs(extract_dir)\n",
        "      self.extract_zip(zip_file, extract_dir)\n",
        "      self.resize(extract_dir, size=size)\n",
        "\n",
        "    postfix = 'train' if train else 'test'\n",
        "\n",
        "    self.dataset_folder = datasets.ImageFolder(extract_dir, transform=transforms.Compose([transforms.ToTensor()]))\n",
        "\n",
        "  def extract_zip(self, zip_file, extract_dir):\n",
        "    print(\"Extracting\", zip_file)\n",
        "    with zipfile.ZipFile(zip_file, 'r') as zip_ref:\n",
        "      zip_ref.extractall(extract_dir)\n",
        "\n",
        "  def __getitem__(self, i):\n",
        "    return self.dataset_folder[i]\n",
        "\n",
        "  def __len__(self):\n",
        "    return len(self.dataset_folder)"
      ],
      "execution_count": null,
      "outputs": []
    },
    {
      "cell_type": "code",
      "metadata": {
        "id": "I-5iQmynLV-z"
      },
      "source": [
        "class SingleSymbolNetwork(nn.Module):\n",
        "  def __init__(self, dataset):\n",
        "    super(SingleSymbolNetwork, self).__init__()\n",
        "    x, y = dataset[0]\n",
        "    c, h, w = x.size()\n",
        "    output = len(dataset.targets)\n",
        "    \n",
        "    self.net = nn.Sequential(\n",
        "        nn.Conv2d(c, 100, (3, 3), padding=(1, 1)),\n",
        "        nn.ReLU(),\n",
        "        nn.Conv2d(100, 100, (3, 3), padding=(1, 1)),\n",
        "        nn.ReLU(),\n",
        "        nn.Conv2d(100, 100, (3, 3), padding=(1, 1)),\n",
        "        nn.ReLU(),\n",
        "        nn.Conv2d(100, output, (45, 45), padding=(0, 0)) # Magic number warning!!\n",
        "    )\n",
        "\n",
        "    def forward(self, x):\n",
        "      return self.net(x).squeeze(2).squeeze(2)"
      ],
      "execution_count": null,
      "outputs": []
    },
    {
      "cell_type": "code",
      "metadata": {
        "id": "EAorhsqQCxUg"
      },
      "source": [
        "dataset = SymbolDataset(zip_file=\"numbers.zip\")\n",
        "model = SingleSymbolNetwork(dataset)\n",
        "model.cuda()\n",
        "\n",
        "batch_size = 16\n",
        "validation_split = .2\n",
        "shuffle_dataset = True\n",
        "random_seed = 314159\n",
        "\n",
        "dataset_size = len(dataset)\n",
        "indices = list(range(dataset_size))\n",
        "split = int(np.floor(validation_split * dataset_size))\n",
        "if shuffle_dataset:\n",
        "  np.random.seed(random_seed)\n",
        "  np.random.shuffle(indices)\n",
        "train_indices, val_indices = indices[split:], indices[:split]\n",
        "\n",
        "train_sampler = SubsetRandomSampler(train_indices)\n",
        "val_sampler = SubsetRandomSampler(val_indices)\n",
        "\n",
        "train_loader = DataLoader(dataset, batch_size=batch_size, sampler=train_sampler)\n",
        "val_loader = DataLoader(dataset, batch_size=batch_size, sampler=val_sampler)\n",
        "\n",
        "\n"
      ],
      "execution_count": null,
      "outputs": []
    },
    {
      "cell_type": "code",
      "metadata": {
        "id": "mEH_2g0RWYTW"
      },
      "source": [
        "import IPython.display\n",
        "import PIL.Image\n",
        "import cv2\n",
        "import numpy as np"
      ],
      "execution_count": null,
      "outputs": []
    },
    {
      "cell_type": "code",
      "metadata": {
        "id": "aqow4olzWQDd"
      },
      "source": [
        "def nbimage(data):\n",
        "    IPython.display.display(PIL.Image.fromarray(data))"
      ],
      "execution_count": null,
      "outputs": []
    },
    {
      "cell_type": "code",
      "metadata": {
        "colab": {
          "base_uri": "https://localhost:8080/",
          "height": 368
        },
        "id": "TdF78HnNRV-t",
        "outputId": "4510bbc4-09ac-40a3-d90b-6d69bfd5d806"
      },
      "source": [
        "img = cv2.imread(\"equation1.jpg\")\n",
        "#img = trim_image(img)\n",
        "#nbimage(img)\n",
        "img = cv2.cvtColor(img, cv2.COLOR_BGR2GRAY)\n",
        "m, n = img.shape\n",
        "xlist = list()\n",
        "ylist = list()\n",
        "for x in range(0, m):\n",
        "  for y in range(0, n):\n",
        "    if img[x, y] < 255:\n",
        "      xlist.append(x)\n",
        "      ylist.append(y)\n",
        "\n",
        "left = min(xlist)\n",
        "right = max(xlist)\n",
        "top = min(ylist)\n",
        "bottom = max(ylist)\n",
        "img = img[left-10:right+10, top-10:bottom+10]\n",
        "#nbimage(img)\n",
        "\n",
        "ret, thresh = cv2.threshold(img, 100, 255, cv2.THRESH_OTSU|cv2.THRESH_BINARY_INV)\n",
        "morphed = cv2.morphologyEx(thresh, cv2.MORPH_OPEN, np.ones((2, 2)))\n",
        "\n",
        "cnts = cv2.findContours(morphed, cv2.RETR_EXTERNAL, cv2.CHAIN_APPROX_SIMPLE)[-2]\n",
        "nh, nw = img.shape[:2]\n",
        "num = 1\n",
        "for cnt in cnts:\n",
        "  x, y, w, h = cv2.boundingRect(cnt)\n",
        "  #if h < 0.3*nh:\n",
        "  #  continue\n",
        "  cv2.rectangle(img, (x, y), (x+w, y+h), (0, 0, 0), 1, cv2.LINE_AA)\n",
        "  cv2.putText(img, str(num), (x, y), cv2.FONT_HERSHEY_SIMPLEX, 1, (0, 0, 0), 2, cv2.LINE_AA)\n",
        "  num += 1\n",
        "\n",
        "nbimage(img)"
      ],
      "execution_count": null,
      "outputs": [
        {
          "output_type": "display_data",
          "data": {
            "image/png": "[encoded data removed]",
            "text/plain": [
              "<PIL.Image.Image image mode=L size=1483x331 at 0x7FD8EF26B2D0>"
            ]
          },
          "metadata": {
            "tags": []
          }
        }
      ]
    },
    {
      "cell_type": "code",
      "metadata": {
        "id": "uAHVoIHvaQcr"
      },
      "source": [
        "def trim_image(img):\n",
        "  gray = cv2.cvtColor(img, cv2.COLOR_BGR2GRAY)\n",
        "  gray = 255*(gray < 128).astype(np.uint8)\n",
        "  coords = cv2.findNonZero(gray)\n",
        "  x, y, w, h = cv2.boundingRect(coords)\n",
        "  print(x, y, w, h)\n",
        "  return img[y:y+h, x:x+h]"
      ],
      "execution_count": null,
      "outputs": []
    },
    {
      "cell_type": "markdown",
      "metadata": {
        "id": "vu2t-SYD9emz"
      },
      "source": [
        "# Test zone"
      ]
    },
    {
      "cell_type": "code",
      "metadata": {
        "id": "yigKh9SjD_QT"
      },
      "source": [
        "import pdb"
      ],
      "execution_count": null,
      "outputs": []
    },
    {
      "cell_type": "code",
      "metadata": {
        "colab": {
          "resources": {
            "http://localhost:8080/nbextensions/google.colab/files.js": {
              "data": "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",
              "ok": true,
              "headers": [
                [
                  "content-type",
                  "application/javascript"
                ]
              ],
              "status": 200,
              "status_text": ""
            }
          },
          "base_uri": "https://localhost:8080/",
          "height": 72
        },
        "id": "68s_RpTd5F91",
        "outputId": "917b1736-0b4d-48d2-d066-a61cecdb6a6c"
      },
      "source": [
        "load = transforms.Compose([\n",
        "    transforms.ToPILImage(),\n",
        "    transforms.ToTensor(),\n",
        "    transforms.Grayscale()\n",
        "])\n",
        "\n",
        "def upload_image():\n",
        "  file_dict = files.upload()\n",
        "  image_path = io.BytesIO(file_dict[next(iter(file_dict))])\n",
        "  image_orig = Image.open(image_path)\n",
        "  image = load(np.array(image_orig)).unsqueeze(0)#.cuda()\n",
        "\n",
        "  return image\n",
        "\n",
        "test_image = upload_image()"
      ],
      "execution_count": null,
      "outputs": [
        {
          "output_type": "display_data",
          "data": {
            "text/html": [
              "\n",
              "     <input type=\"file\" id=\"files-5e42c4f4-c55b-4022-b812-ae863a905c65\" name=\"files[]\" multiple disabled\n",
              "        style=\"border:none\" />\n",
              "     <output id=\"result-5e42c4f4-c55b-4022-b812-ae863a905c65\">\n",
              "      Upload widget is only available when the cell has been executed in the\n",
              "      current browser session. Please rerun this cell to enable.\n",
              "      </output>\n",
              "      <script src=\"/nbextensions/google.colab/files.js\"></script> "
            ],
            "text/plain": [
              "<IPython.core.display.HTML object>"
            ]
          },
          "metadata": {
            "tags": []
          }
        },
        {
          "output_type": "stream",
          "text": [
            "Saving 2468.png to 2468.png\n"
          ],
          "name": "stdout"
        }
      ]
    },
    {
      "cell_type": "code",
      "metadata": {
        "colab": {
          "base_uri": "https://localhost:8080/"
        },
        "id": "426SbXmUoyCv",
        "outputId": "47d51b79-1e86-45b7-c123-3143b5f87d2e"
      },
      "source": [
        "test_image.size()"
      ],
      "execution_count": null,
      "outputs": [
        {
          "output_type": "execute_result",
          "data": {
            "text/plain": [
              "torch.Size([1, 1, 72, 192])"
            ]
          },
          "metadata": {
            "tags": []
          },
          "execution_count": 28
        }
      ]
    },
    {
      "cell_type": "code",
      "metadata": {
        "id": "0631fyTB8eDy"
      },
      "source": [
        "# Display the images\n",
        "toPIL = transforms.ToPILImage()  \n",
        "\n",
        "def display(tensor, title=None):\n",
        "    image = tensor.cpu().clone()  \n",
        "    image = image.squeeze(0)    \n",
        "    image = toPIL(image)\n",
        "    plt.figure(figsize=(8, 8))\n",
        "    plt.imshow(image, cmap=\"gray\")\n",
        "    plt.xticks([])\n",
        "    plt.yticks([])\n",
        "    if title is not None:\n",
        "        plt.title(title)\n",
        "    plt.show()"
      ],
      "execution_count": 2,
      "outputs": []
    },
    {
      "cell_type": "code",
      "metadata": {
        "colab": {
          "base_uri": "https://localhost:8080/"
        },
        "id": "GCUQit2XYIFk",
        "outputId": "52729f74-103f-4a06-d7dd-71620cdf497d"
      },
      "source": [
        "image_label = torch.tensor([[0, 4, 6, 8, 10, 1]])\n",
        "a.size()"
      ],
      "execution_count": null,
      "outputs": [
        {
          "output_type": "execute_result",
          "data": {
            "text/plain": [
              "torch.Size([1, 6])"
            ]
          },
          "metadata": {
            "tags": []
          },
          "execution_count": 7
        }
      ]
    },
    {
      "cell_type": "code",
      "metadata": {
        "colab": {
          "base_uri": "https://localhost:8080/"
        },
        "id": "7qely8nA7HKp",
        "outputId": "b29766ed-d012-4e15-bb3d-cabe06834eb4"
      },
      "source": [
        "model = TransformerModel(23)\n",
        "result = model.forward(test_image, image_label, None, None)\n",
        "print(result.size())\n",
        "print(result)"
      ],
      "execution_count": null,
      "outputs": [
        {
          "output_type": "stream",
          "text": [
            "torch.Size([1, 6, 512])\n",
            "tensor([[[-0.2321, -0.3540,  0.2577,  ..., -0.6877, -0.0990,  0.7072],\n",
            "         [ 0.0186, -0.4063,  0.9717,  ..., -1.2657,  1.0326,  0.0349],\n",
            "         [-0.9475,  0.2188,  0.7932,  ..., -0.4707,  0.1658,  0.1043],\n",
            "         [-1.1108, -0.1735,  0.5287,  ..., -0.3654,  0.3609,  1.1381],\n",
            "         [-0.9994, -0.7305, -0.7806,  ..., -0.5152, -0.2607,  1.1009],\n",
            "         [-0.2448,  0.8303, -0.0753,  ..., -0.5195, -0.6192, -0.1775]]],\n",
            "       grad_fn=<AddBackward0>)\n"
          ],
          "name": "stdout"
        }
      ]
    },
    {
      "cell_type": "markdown",
      "metadata": {
        "id": "bPANQKwuSVtD"
      },
      "source": [
        "# Dataset preparation"
      ]
    },
    {
      "cell_type": "markdown",
      "metadata": {
        "id": "7z4eR6ZQTKRR"
      },
      "source": [
        "## Dataset"
      ]
    },
    {
      "cell_type": "code",
      "metadata": {
        "id": "hUbWQUkXTNwx"
      },
      "source": [
        "class EquationDataset(Dataset):\n",
        "  def __init__(self, zip_file, formula_file, index_file, transform, file_ext=\".jpg\"):\n",
        "    super(Dataset, self).__init__()\n",
        "    self.file_ext = file_ext\n",
        "\n",
        "    extract_dir = os.path.splitext(zip_file)[0]\n",
        "    if not os.path.exists(extract_dir):\n",
        "      os.makedirs(extract_dir)\n",
        "      self.extract_zip(zip_file, extract_dir)\n",
        "\n",
        "    self.formula_dir = os.path.join(extract_dir, extract_dir)\n",
        "    #self.total_imgs = os.listdir(self.formula_dir)\n",
        "\n",
        "    self.transform = transform\n",
        "    self.max_formula_size = 0\n",
        "\n",
        "    with open(formula_file, 'r') as file:\n",
        "      self.formulas = file.read().splitlines()\n",
        "      for formula in self.formulas:\n",
        "        if len(formula.split(\" \")) > self.max_formula_size:\n",
        "          self.max_formula_size = len(formula.split(\" \"))\n",
        "\n",
        "    self.image2index = dict()\n",
        "    with open(index_file) as file:\n",
        "      reader = csv.reader(file, delimiter=\" \")\n",
        "      for row in reader:\n",
        "        self.image2index[row[1]] = row[0]\n",
        "\n",
        "    self.image_list = list(self.image2index.keys())\n",
        "\n",
        "  def extract_zip(self, zip_file, extract_dir):\n",
        "    print(\"Extracting\", zip_file)\n",
        "    with zipfile.ZipFile(zip_file, 'r') as zip_ref:\n",
        "      zip_ref.extractall(extract_dir)\n",
        "\n",
        "  def __len__(self):\n",
        "    return len(self.image_list)\n",
        "\n",
        "  def __getitem__(self, i):\n",
        "    img_loc = os.path.join(self.formula_dir, self.image_list[i] + self.file_ext)\n",
        "    image = Image.open(img_loc)\n",
        "    image = self.transform(np.array(image))#.cuda()\n",
        "    image_formula = self.formulas[int(self.image2index[self.image_list[i]])]\n",
        "    image_tensor = parser.string2tensor(image_formula)\n",
        "\n",
        "    src_mask = torch.tensor([0]) # Maybe do something with this later\n",
        "\n",
        "    # Probably move the operations below into the Dataloader in the future. For now, we'll leave this here. \n",
        "    trg = torch.cat((torch.tensor([parser.SOS]), image_tensor, torch.tensor([parser.EOS]), torch.zeros(self.max_formula_size - image_tensor.size()[0])))\n",
        "    trg_y = trg[1:].long() # All the inputs shifted over\n",
        "    trg = trg[:-1].long() # Kick off the ending in the original\n",
        "\n",
        "    trg_mask = make_trg_mask(trg, parser.pad)\n",
        "\n",
        "    return image, src_mask, trg, trg_y, trg_mask\n",
        "\n",
        "def subsequent_mask(size):\n",
        "  \"Mask out subsequent positions\"\n",
        "  attn_shape = (size, size)\n",
        "  subsequent_mask = np.triu(np.ones(attn_shape), k=1).astype('uint8')\n",
        "  return torch.from_numpy(subsequent_mask) == 0\n",
        "\n",
        "def make_trg_mask(tgt, pad):\n",
        "  tgt_mask = (tgt != pad).unsqueeze(-2)\n",
        "  tgt_mask = tgt_mask & Variable(subsequent_mask(tgt.size(-1)).type_as(tgt_mask.data))\n",
        "  return tgt_mask"
      ],
      "execution_count": 3,
      "outputs": []
    },
    {
      "cell_type": "code",
      "metadata": {
        "colab": {
          "base_uri": "https://localhost:8080/"
        },
        "id": "9KrMT_0mAwGf",
        "outputId": "4706dec3-3e9d-48ec-d66b-de0a73cef587"
      },
      "source": [
        "trg = torch.tensor([1, 4, 6, 3, 7])\n",
        "make_trg_mask(trg, 0)"
      ],
      "execution_count": null,
      "outputs": [
        {
          "output_type": "execute_result",
          "data": {
            "text/plain": [
              "tensor([[ True, False, False, False, False],\n",
              "        [ True,  True, False, False, False],\n",
              "        [ True,  True,  True, False, False],\n",
              "        [ True,  True,  True,  True, False],\n",
              "        [ True,  True,  True,  True,  True]])"
            ]
          },
          "metadata": {
            "tags": []
          },
          "execution_count": 12
        }
      ]
    },
    {
      "cell_type": "code",
      "metadata": {
        "id": "zg8gdSl7itse"
      },
      "source": [
        "train_dataset = EquationDataset(\"he2latex_formulas.zip\", \"formulas.txt\", \"train.txt\", transforms.Compose([\n",
        "    transforms.ToPILImage(),\n",
        "    transforms.ToTensor(),\n",
        "    #transforms.Grayscale()\n",
        "]))"
      ],
      "execution_count": null,
      "outputs": []
    },
    {
      "cell_type": "code",
      "metadata": {
        "id": "w94vv-xdsQUe"
      },
      "source": [
        "print(train_dataset[1][2])\n",
        "print(train_dataset[1][3])\n",
        "print(train_dataset[1][4])"
      ],
      "execution_count": null,
      "outputs": []
    },
    {
      "cell_type": "markdown",
      "metadata": {
        "id": "i-CiYDQJ3-Yt"
      },
      "source": [
        "## Dataloader"
      ]
    },
    {
      "cell_type": "code",
      "metadata": {
        "id": "TVtnQz9Bnc7j"
      },
      "source": [
        "train_loader = DataLoader(train_dataset, shuffle=True, num_workers=0, batch_size=4)"
      ],
      "execution_count": null,
      "outputs": []
    },
    {
      "cell_type": "code",
      "metadata": {
        "id": "-zab62AApcgg"
      },
      "source": [
        "for src, src_mask, trg, trg_y, trg_mask in train_loader:\n",
        "  print(src.size())\n",
        "  print(src_mask.size())\n",
        "  print(trg.size())\n",
        "  print(trg_y.size())\n",
        "  print(trg_mask.size())"
      ],
      "execution_count": null,
      "outputs": []
    },
    {
      "cell_type": "markdown",
      "metadata": {
        "id": "KmdHr87DXzx9"
      },
      "source": [
        "# Setup"
      ]
    },
    {
      "cell_type": "code",
      "metadata": {
        "id": "47xpTcUCsAre"
      },
      "source": [
        "import numpy as np\n",
        "import torch\n",
        "import torch.nn as nn\n",
        "import torch.nn.functional as F\n",
        "import math, copy, time"
      ],
      "execution_count": null,
      "outputs": []
    },
    {
      "cell_type": "code",
      "metadata": {
        "id": "4ULCT7u2X_VA"
      },
      "source": [
        "# For testing purposes"
      ],
      "execution_count": null,
      "outputs": []
    },
    {
      "cell_type": "code",
      "metadata": {
        "id": "bJhiExgflSam"
      },
      "source": [
        "pad_token = 0\n",
        "SOS_token = 1\n",
        "EOS_token = 2\n",
        "simple_tokens = r\"0 1 2 3 4 5 6 7 8 9 - + = ^ \\frac \\leq \\neq \\geq \\alpha \\beta \\lambda < > x y { }\"\n",
        "\n",
        "class Tokens:\n",
        "  \"\"\"This is a class to hold tokens and references to them.\"\"\"\n",
        "  def __init__(self, name, token_str, sep=' '):\n",
        "    \"\"\"Takes a name and some tokens and then splits them into a dictionaries to map things.\"\"\"\n",
        "    tokens = (\"BLANK SOS EOS \" + token_str).split(sep)\n",
        "    num_tokens = len(tokens)\n",
        "    self.name = name\n",
        "    self.word2index = dict(zip(tokens, range(num_tokens)))\n",
        "    self.index2word = dict(zip(range(num_tokens), tokens))\n",
        "    self.SOS = SOS_token\n",
        "    self.EOS = EOS_token\n",
        "    self.pad = pad_token\n",
        "    self.num_tokens = num_tokens\n",
        "\n",
        "  def string2tensor(self, latex_str):\n",
        "    return torch.tensor([self.word2index[i] for i in latex_str.split(\" \")])"
      ],
      "execution_count": 4,
      "outputs": []
    },
    {
      "cell_type": "code",
      "metadata": {
        "colab": {
          "base_uri": "https://localhost:8080/"
        },
        "id": "6UaQFNhBmxyx",
        "outputId": "e1af2b6e-5644-47f6-f184-d5e42e3a8da1"
      },
      "source": [
        "parser = Tokens(\"test_dataset\", simple_tokens)\n",
        "print(parser.word2index)\n",
        "print(parser.index2word)"
      ],
      "execution_count": 5,
      "outputs": [
        {
          "output_type": "stream",
          "text": [
            "{'BLANK': 0, 'SOS': 1, 'EOS': 2, '0': 3, '1': 4, '2': 5, '3': 6, '4': 7, '5': 8, '6': 9, '7': 10, '8': 11, '9': 12, '-': 13, '+': 14, '=': 15, '^': 16, '\\\\frac': 17, '\\\\leq': 18, '\\\\neq': 19, '\\\\geq': 20, '\\\\alpha': 21, '\\\\beta': 22, '\\\\lambda': 23, '<': 24, '>': 25, 'x': 26, 'y': 27, '{': 28, '}': 29}\n",
            "{0: 'BLANK', 1: 'SOS', 2: 'EOS', 3: '0', 4: '1', 5: '2', 6: '3', 7: '4', 8: '5', 9: '6', 10: '7', 11: '8', 12: '9', 13: '-', 14: '+', 15: '=', 16: '^', 17: '\\\\frac', 18: '\\\\leq', 19: '\\\\neq', 20: '\\\\geq', 21: '\\\\alpha', 22: '\\\\beta', 23: '\\\\lambda', 24: '<', 25: '>', 26: 'x', 27: 'y', 28: '{', 29: '}'}\n"
          ],
          "name": "stdout"
        }
      ]
    },
    {
      "cell_type": "markdown",
      "metadata": {
        "id": "644STO0WIV70"
      },
      "source": [
        "# Model"
      ]
    },
    {
      "cell_type": "markdown",
      "metadata": {
        "id": "YrLymR2U4zzQ"
      },
      "source": [
        "## Model Helpers"
      ]
    },
    {
      "cell_type": "code",
      "metadata": {
        "id": "jiJwAUNm44_6"
      },
      "source": [
        "class PositionwiseFeedForward(nn.Module):\n",
        "  \"Simple linear layers with dropout and relu\"\n",
        "  def __init__(self, d_model, d_ff, dropout=0.1):\n",
        "    super(PositionwiseFeedForward, self).__init__()\n",
        "    self.w_1 = nn.Linear(d_model, d_ff)\n",
        "    self.w_2 = nn.Linear(d_ff, d_model)\n",
        "    self.dropout = nn.Dropout(dropout)\n",
        "\n",
        "  def forward(self, x):\n",
        "    return self.w_2(self.dropout(F.relu(self.w_1(x))))\n",
        "\n",
        "class Embeddings(nn.Module):\n",
        "  \"Create word embeddings\"\n",
        "  def __init__(self, d_model, vocab):\n",
        "    super(Embeddings, self).__init__()\n",
        "    self.lut = nn.Embedding(vocab, d_model)\n",
        "    self.d_model = d_model\n",
        "\n",
        "  def forward(self, x):\n",
        "    return self.lut(x) * math.sqrt(self.d_model)\n",
        "\n",
        "class Generator(nn.Module):\n",
        "  def __init__(self, d_model, vocab):\n",
        "    super(Generator, self).__init__()\n",
        "    self.proj = nn.Linear(d_model, vocab)\n",
        "\n",
        "  def forward(self, x):\n",
        "    return F.log_softmax(self.proj(x), dim=-1)\n",
        "\n",
        "class LayerNorm(nn.Module):\n",
        "  \"Construct a layernorm module\"\n",
        "  def __init__(self, features, eps=1e-6):\n",
        "    super(LayerNorm, self).__init__()\n",
        "    self.a_2 = nn.Parameter(torch.ones(features))\n",
        "    self.b_2 = nn.Parameter(torch.zeros(features))\n",
        "    self.eps = eps\n",
        "\n",
        "  def forward(self, x):\n",
        "    mean = x.mean(-1, keepdim=True)\n",
        "    std = x.std(-1, keepdim=True)\n",
        "    return self.a_2 * (x - mean) / (std + self.eps) + self.b_2\n",
        "\n",
        "class SublayerConnection(nn.Module):\n",
        "  def __init__(self, size, dropout):\n",
        "    super(SublayerConnection, self).__init__()\n",
        "    self.norm = LayerNorm(size)\n",
        "    self.dropout = nn.Dropout(dropout)\n",
        "\n",
        "  def forward(self, x, sublayer):\n",
        "    \"Apply residual connection to any sublayer with the same size.\"\n",
        "    return x + self.dropout(sublayer(self.norm(x)))\n",
        "\n",
        "def clones(module, N):\n",
        "  \"Produce N identical layers.\"\n",
        "  return nn.ModuleList([copy.deepcopy(module) for _ in range(N)])"
      ],
      "execution_count": 6,
      "outputs": []
    },
    {
      "cell_type": "markdown",
      "metadata": {
        "id": "83aq8IwKxAx5"
      },
      "source": [
        "## Encoder"
      ]
    },
    {
      "cell_type": "code",
      "metadata": {
        "id": "_soLwRRHxDFW"
      },
      "source": [
        "class Encoder(nn.Module):\n",
        "  \"Core encoder is a stack of N layers\"\n",
        "  def __init__(self, layer, N, position):\n",
        "    super(Encoder, self).__init__()\n",
        "    self.layers = clones(layer, N)\n",
        "    self.norm = LayerNorm(layer.size)\n",
        "\n",
        "    # Convolutional layers\n",
        "    self.relu = nn.ReLU()\n",
        "    self.max_pool22 = nn.MaxPool2d((2, 2))\n",
        "    self.max_pool12 = nn.MaxPool2d((2, 1))\n",
        "    self.max_pool21 = nn.MaxPool2d((1, 2))\n",
        "    #self.max_pool22 = nn.MaxPool2d((3, 3))\n",
        "    #self.max_pool12 = nn.MaxPool2d((2, 1))\n",
        "    #self.max_pool21 = nn.MaxPool2d((1, 2))\n",
        "\n",
        "    #self.conv_transitions = [(1, 64), (64, 128), (128, 256), (256, 256), (256, 512), (512, 512)]\n",
        "    #self.conv = [nn.Conv2d(*tup, (3, 3), padding=1) for tup in self.conv_transitions]\n",
        "    self.position = position\n",
        "    self.conv0 = nn.Conv2d(1, 64, (3, 3), padding=1)\n",
        "    self.conv1 = nn.Conv2d(64, 128, (3, 3), padding=1)\n",
        "    self.conv2 = nn.Conv2d(128, 256, (3, 3), padding=1)\n",
        "    self.conv3 = nn.Conv2d(256, 256, (3, 3), padding=1)\n",
        "    self.conv4 = nn.Conv2d(256, 512, (3, 3), padding=1)\n",
        "    self.conv5 = nn.Conv2d(512, 512, (3, 3), padding=1)\n",
        "    \"\"\"\n",
        "    self.conv = [nn.Conv2d(1, 64, (3, 3), padding=1),\n",
        "                 nn.Conv2d(64, 128, (3, 3), padding=1),\n",
        "                 nn.Conv2d(128, 256, (3, 3), padding=1),\n",
        "                 nn.Conv2d(256, 256, (3, 3), padding=1),\n",
        "                 nn.Conv2d(256, 512, (3, 3), padding=1),\n",
        "                 nn.Conv2d(512, 512, (3, 3), padding=1)\n",
        "    ]\"\"\"\n",
        "\n",
        "\n",
        "  def forward(self, x, mask):\n",
        "    \"\"\"First run the picture through a few convolutional layes then\n",
        "    Pass the input (and mask) through each layer in turn.\"\"\"\n",
        "    # Do the convolutions\n",
        "    x = self.conv0(x)\n",
        "    x = self.relu(x)\n",
        "    x = self.max_pool22(x)\n",
        "\n",
        "    x = self.conv1(x)\n",
        "    x = self.relu(x)\n",
        "    x = self.max_pool22(x)\n",
        "\n",
        "    x = self.conv2(x)\n",
        "    x = self.relu(x)\n",
        "\n",
        "    x = self.conv3(x)\n",
        "    x = self.relu(x)\n",
        "    x = self.max_pool21(x)\n",
        "\n",
        "    x = self.conv4(x)\n",
        "    x = self.relu(x)\n",
        "    x = self.max_pool12(x)\n",
        "\n",
        "    x = self.conv5(x)\n",
        "    x = self.relu(x)\n",
        "\n",
        "    # Do some positional stuff\n",
        "    #x = self.position(x)\n",
        "\n",
        "    # Reshape so it fits into the attention layers.\n",
        "    b, c, h, w = x.size()\n",
        "    x = x.permute(0, 2, 3, 1)\n",
        "    x = x.reshape(b, h*w, c)    \n",
        "\n",
        "    # Maybe put the positional encodings here?\n",
        "    x = self.position(x)\n",
        "\n",
        "    for layer in self.layers:\n",
        "      x = layer(x, mask)\n",
        "    return self.norm(x)\n",
        "\n",
        "class EncoderLayer(nn.Module):\n",
        "  \"Encoder is made up of self-attn and feed forward\"\n",
        "  def __init__(self, size, self_attn, feed_forward, dropout):\n",
        "    super(EncoderLayer, self).__init__()\n",
        "    self.self_attn = self_attn\n",
        "    self.feed_forward = feed_forward\n",
        "    self.sublayer = clones(SublayerConnection(size, dropout), 2)\n",
        "    self.size = size\n",
        "\n",
        "  def forward(self, x, mask):\n",
        "    x = self.sublayer[0](x, lambda x: self.self_attn(x, x, x, mask))\n",
        "    return self.sublayer[1](x, self.feed_forward)"
      ],
      "execution_count": 7,
      "outputs": []
    },
    {
      "cell_type": "code",
      "metadata": {
        "id": "2jYcyPW1Y4lt"
      },
      "source": [
        "a = torch.arange(2*3*4*5)\n",
        "a = a.reshape(2, 3, 4, 5)\n",
        "b, h, w, c = a.size()\n",
        "print(b, h, w, c)\n",
        "print(a)\n",
        "a = a.reshape(2, 3*4, 5)\n",
        "print(a)"
      ],
      "execution_count": null,
      "outputs": []
    },
    {
      "cell_type": "markdown",
      "metadata": {
        "id": "7zHPuzV79XoW"
      },
      "source": [
        "## Attention"
      ]
    },
    {
      "cell_type": "code",
      "metadata": {
        "id": "_Ih4ssna9Z-q"
      },
      "source": [
        "def attention(query, key, value, mask):\n",
        "    # Compute 'Scaled Dot Product Attention'\n",
        "    \n",
        "    # scores = QK^T/scale\n",
        "    scores = torch.matmul(query, key.transpose(1, 2))/query.size(2)**(1/2)\n",
        "    \n",
        "    # Apply the mask\n",
        "    if mask is not None:\n",
        "        scores = scores.masked_fill(mask == 0, -1e9)\n",
        "        \n",
        "    # output = softmax(scores)(V)\n",
        "    output = torch.matmul(F.softmax(scores, dim=-1), value)\n",
        "    \n",
        "    return output"
      ],
      "execution_count": 8,
      "outputs": []
    },
    {
      "cell_type": "code",
      "metadata": {
        "id": "x3onMX9j9mGV"
      },
      "source": [
        "class MultiHeadedAttention(nn.Module):\n",
        "    def __init__(self, h, d_model, dropout=0.1):\n",
        "        super(MultiHeadedAttention, self).__init__()\n",
        "        # Implement Multi-head attention mechanism\n",
        "        d_k = d_v = d_model // h\n",
        "        self.h = h\n",
        "        # Make an attention head (linear layers for q, k, and v)       \n",
        "        # Make h copies of the attention head (Hint: See the `clone()` helper function)\n",
        "        self.q = clones(nn.Linear(d_model, d_k), h)\n",
        "        self.k = clones(nn.Linear(d_model, d_k), h)\n",
        "        self.v = clones(nn.Linear(d_model, d_v), h)\n",
        "        \n",
        "        # Linear layer for after the concatenation\n",
        "        self.out = nn.Linear(h*d_v, d_model)\n",
        "\n",
        "    def forward(self, query, key, value, mask):\n",
        "        # For each attention head\n",
        "        # Pass the query, key, value through their respective layers\n",
        "        # Compute scaled dot-product attention on the output\n",
        "        outputs = list()\n",
        "        for i in range(self.h):\n",
        "            outputs.append(attention(self.q[i](query), self.k[i](key), self.v[i](value), mask))\n",
        "        \n",
        "        return self.out(torch.cat(outputs, dim=2))\n",
        "\n",
        "#def subsequent_mask(size):\n",
        "#  \"Mask out subsequent positions\"\n",
        "#  attn_shape = (1, size, size)\n",
        "#  subsequent_mask = np.triu(np.ones(attn_shape), k=1).astype('uint8')\n",
        "#  return torch.from_numpy(subsequent_mask) == 0"
      ],
      "execution_count": 9,
      "outputs": []
    },
    {
      "cell_type": "markdown",
      "metadata": {
        "id": "Fzr_uVP9cuHo"
      },
      "source": [
        "## Decoder"
      ]
    },
    {
      "cell_type": "code",
      "metadata": {
        "id": "txuv4HsNcxTZ"
      },
      "source": [
        "class Decoder(nn.Module):\n",
        "  \"Generic N layer decoder with masking.\"\n",
        "  def __init__(self, layer, N):\n",
        "    super(Decoder, self).__init__()\n",
        "    self.layers = clones(layer, N)\n",
        "    self.norm = LayerNorm(layer.size)\n",
        "\n",
        "  def forward(self, x, memory, src_mask, tgt_mask):\n",
        "    for layer in self.layers:\n",
        "      x = layer(x, memory, src_mask, tgt_mask)\n",
        "    return self.norm(x)\n",
        "\n",
        "class DecoderLayer(nn.Module):\n",
        "  \"Decoder is made of self-attn, src-attn, and feed forward (defined below)\"\n",
        "  def __init__(self, size, self_attn, src_attn, feed_forward, dropout):\n",
        "    super(DecoderLayer, self).__init__()\n",
        "    self.size = size\n",
        "    self.self_attn = self_attn\n",
        "    self.src_attn = src_attn\n",
        "    self.feed_forward = feed_forward\n",
        "    self.sublayer = clones(SublayerConnection(size, dropout), 3)\n",
        "\n",
        "  def forward(self, x, memory, src_mask, tgt_mask):\n",
        "    m = memory\n",
        "    x = self.sublayer[0](x, lambda x: self.self_attn(x, x, x, tgt_mask))\n",
        "    x = self.sublayer[1](x, lambda x: self.self_attn(x, m, m, src_mask))\n",
        "    return self.sublayer[2](x, self.feed_forward)"
      ],
      "execution_count": 10,
      "outputs": []
    },
    {
      "cell_type": "markdown",
      "metadata": {
        "id": "Dvxed2tJ-4EN"
      },
      "source": [
        "## Positional Encoding"
      ]
    },
    {
      "cell_type": "code",
      "metadata": {
        "id": "wbOVcQpJ-xxj"
      },
      "source": [
        "class PositionalEncoding(nn.Module):\n",
        "    \"Implement the PE function.\"\n",
        "    def __init__(self, d_model, dropout, max_len=5000):\n",
        "        super(PositionalEncoding, self).__init__()\n",
        "        self.dropout = nn.Dropout(p=dropout)\n",
        "        \n",
        "        # Compute the positional encodings once in log space.\n",
        "        pe = torch.zeros(max_len, d_model)\n",
        "        position = torch.arange(0, max_len).unsqueeze(1).float()\n",
        "        div_term = 1 / (10000 ** (torch.arange(0., d_model, 2) / d_model))\n",
        "        pe[:, 0::2] = torch.sin(position * div_term)\n",
        "        pe[:, 1::2] = torch.cos(position * div_term)\n",
        "        pe = pe.unsqueeze(0)\n",
        "        self.register_buffer('pe', pe)\n",
        "        \n",
        "    def forward(self, x):\n",
        "        x = x + Variable(self.pe[:, :x.size(1)], \n",
        "                         requires_grad=False)\n",
        "        return self.dropout(x)"
      ],
      "execution_count": 12,
      "outputs": []
    },
    {
      "cell_type": "markdown",
      "metadata": {
        "id": "iOCa8FIu_S5-"
      },
      "source": [
        "## Full Model"
      ]
    },
    {
      "cell_type": "code",
      "metadata": {
        "id": "EMML7TYq_SSI"
      },
      "source": [
        "class TransformerModel(nn.Module):\n",
        "  def __init__(self, tgt_vocab, N=6, d_model=512, d_ff=1024, h=8, dropout=0.1):\n",
        "    super(TransformerModel, self).__init__()\n",
        "\n",
        "    attn = MultiHeadedAttention(h, d_model)\n",
        "    ff = PositionwiseFeedForward(d_model, d_ff, dropout)\n",
        "    position = PositionalEncoding(d_model, dropout)\n",
        "    c = copy.deepcopy\n",
        "\n",
        "    self.encoder = Encoder(EncoderLayer(d_model, c(attn), c(ff), dropout), N, c(position))\n",
        "    self.decoder = Decoder(DecoderLayer(d_model, c(attn), c(attn), c(ff), dropout), N)\n",
        "\n",
        "    self.tgt_embed = nn.Sequential(Embeddings(d_model, tgt_vocab), c(position))\n",
        "\n",
        "    self.generator = Generator(d_model, tgt_vocab)\n",
        "    for p in self.parameters():\n",
        "      if p.dim() > 1:\n",
        "        nn.init.xavier_uniform_(p)\n",
        "\n",
        "  def forward(self, src, tgt, src_mask, tgt_mask):\n",
        "    return self.decode(self.encode(src, src_mask), src_mask, tgt, tgt_mask)\n",
        "\n",
        "  def encode(self, src, src_mask):\n",
        "    return self.encoder(src, src_mask)\n",
        "\n",
        "  def decode(self, memory, src_mask, tgt, tgt_mask):\n",
        "    return self.decoder(self.tgt_embed(tgt), memory, src_mask, tgt_mask)"
      ],
      "execution_count": 13,
      "outputs": []
    },
    {
      "cell_type": "markdown",
      "metadata": {
        "id": "siMVDMhjp8uB"
      },
      "source": [
        "# Training"
      ]
    },
    {
      "cell_type": "markdown",
      "metadata": {
        "id": "qZU7ZfAL8j7P"
      },
      "source": [
        "## Label Smoothing"
      ]
    },
    {
      "cell_type": "code",
      "metadata": {
        "id": "LfOFXeQx8m-8"
      },
      "source": [
        "class LabelSmoothing(nn.Module):\n",
        "    \"Implement label smoothing.\"\n",
        "    def __init__(self, size, padding_idx, smoothing=0.0):\n",
        "        super(LabelSmoothing, self).__init__()\n",
        "        self.criterion = nn.KLDivLoss(reduction='sum')\n",
        "        self.padding_idx = padding_idx\n",
        "        self.confidence = 1.0 - smoothing\n",
        "        self.smoothing = smoothing\n",
        "        self.size = size\n",
        "        self.true_dist = None\n",
        "        \n",
        "    def forward(self, x, target):\n",
        "        assert x.size(1) == self.size\n",
        "        true_dist = x.data.clone()\n",
        "        true_dist.fill_(self.smoothing / (self.size - 2))\n",
        "        true_dist.scatter_(1, target.data.unsqueeze(1), self.confidence)\n",
        "        true_dist[:, self.padding_idx] = 0\n",
        "        mask = torch.nonzero(target.data == self.padding_idx)\n",
        "        if mask.dim() > 0:\n",
        "            true_dist.index_fill_(0, mask.squeeze(), 0.0)\n",
        "        self.true_dist = true_dist\n",
        "        return self.criterion(x, Variable(true_dist, requires_grad=False))"
      ],
      "execution_count": 14,
      "outputs": []
    },
    {
      "cell_type": "markdown",
      "metadata": {
        "id": "Ld4KgsfPqGzh"
      },
      "source": [
        "## Training code"
      ]
    },
    {
      "cell_type": "code",
      "metadata": {
        "id": "vF1TF0OGqgBD"
      },
      "source": [
        "class LossFunction:\n",
        "  \"A simple loss compute and train function.\"\n",
        "  def __init__(self, generator, criterion, opt=None):\n",
        "    self.generator = generator\n",
        "    self.criterion = criterion\n",
        "    self.opt = opt\n",
        "\n",
        "  def __call__(self, x, y, norm):\n",
        "    x = self.generator(x)\n",
        "    loss = self.criterion(x.contiguous().view(-1, x.size(-1)),\n",
        "                          y.contiguous().view(-1)) / norm\n",
        "    loss.backward()\n",
        "    if self.opt is not None:\n",
        "      self.opt.step()\n",
        "      self.opt.zero_grad()\n",
        "    return loss.data * norm\n",
        "\n",
        "def run_epoch(loader, model, loss_compute):\n",
        "  start = time.time()\n",
        "  total_loss = 0\n",
        "  for i, (src, src_mask, trg, trg_y, trg_mask) in enumerate(loader):\n",
        "    src, trg, trg_y, trg_mask = src.cuda(non_blocking=True), trg.cuda(non_blocking=True), trg_y.cuda(non_blocking=True), trg_mask.cuda(non_blocking=True)\n",
        "    out = model.forward(src, trg, None, trg_mask)\n",
        "    loss = loss_compute(out, trg_y, 1) # Change the 1 in the future. \n",
        "    total_loss += loss\n",
        "    if i % 4 == 1:\n",
        "      elapsed = time.time() - start\n",
        "      print(\"Epoch Step: %d Loss: %f\" % (i, loss))\n",
        "      start = time.time()\n",
        "\n",
        "  return total_loss"
      ],
      "execution_count": 15,
      "outputs": []
    },
    {
      "cell_type": "markdown",
      "metadata": {
        "id": "OT5wo0tU70Ed"
      },
      "source": [
        "## Train"
      ]
    },
    {
      "cell_type": "code",
      "metadata": {
        "colab": {
          "base_uri": "https://localhost:8080/"
        },
        "id": "M0Q3IPpl73m9",
        "outputId": "e9024c1c-7ece-42c5-81fa-e222d0862f72"
      },
      "source": [
        "import gc\n",
        "gc.collect()\n",
        "\n",
        "model = TransformerModel(parser.num_tokens, N=3).cuda()\n",
        "n_epochs = 10\n",
        "#print(model)\n",
        "\n",
        "def scope():\n",
        "  criterion = LabelSmoothing(size=parser.num_tokens, padding_idx=parser.pad, smoothing=0.1)\n",
        "  criterion.cuda()\n",
        "  BATCH_SIZE = 10\n",
        "\n",
        "  train_dataset = EquationDataset(\"formulas.zip\", \"formulas.txt\", \"train.txt\", transforms.Compose([\n",
        "    transforms.ToPILImage(),\n",
        "    transforms.ToTensor(),\n",
        "    transforms.Grayscale()\n",
        "  ]), file_ext='.png')\n",
        "\n",
        "  train_loader = DataLoader(train_dataset, shuffle=True, num_workers=0, batch_size=4, pin_memory=True)\n",
        "\n",
        "  model_opt = optim.Adam(model.parameters(), lr=5e-4)\n",
        "\n",
        "  for epoch in range(n_epochs):\n",
        "    model.train()\n",
        "    run_epoch(train_loader, model, LossFunction(model.generator, criterion, model_opt))\n",
        "    model.eval()\n",
        "    \n",
        "scope()"
      ],
      "execution_count": 16,
      "outputs": [
        {
          "output_type": "stream",
          "text": [
            "Extracting formulas.zip\n",
            "Epoch Step: 1 Loss: 65.302536\n",
            "Epoch Step: 5 Loss: 89.588409\n",
            "Epoch Step: 9 Loss: 50.944283\n",
            "Epoch Step: 13 Loss: 55.289051\n",
            "Epoch Step: 17 Loss: 40.627136\n",
            "Epoch Step: 21 Loss: 43.725731\n",
            "Epoch Step: 25 Loss: 44.188622\n",
            "Epoch Step: 29 Loss: 41.546700\n",
            "Epoch Step: 33 Loss: 44.479954\n",
            "Epoch Step: 37 Loss: 41.572144\n",
            "Epoch Step: 41 Loss: 40.844608\n",
            "Epoch Step: 45 Loss: 42.076729\n",
            "Epoch Step: 1 Loss: 41.469177\n",
            "Epoch Step: 5 Loss: 36.326893\n",
            "Epoch Step: 9 Loss: 38.202724\n",
            "Epoch Step: 13 Loss: 36.217361\n",
            "Epoch Step: 17 Loss: 35.646023\n",
            "Epoch Step: 21 Loss: 32.493172\n",
            "Epoch Step: 25 Loss: 40.331322\n",
            "Epoch Step: 29 Loss: 36.867096\n",
            "Epoch Step: 33 Loss: 35.655922\n",
            "Epoch Step: 37 Loss: 38.327564\n",
            "Epoch Step: 41 Loss: 36.919655\n",
            "Epoch Step: 45 Loss: 37.924202\n",
            "Epoch Step: 1 Loss: 35.367317\n",
            "Epoch Step: 5 Loss: 33.807129\n",
            "Epoch Step: 9 Loss: 41.126175\n",
            "Epoch Step: 13 Loss: 37.908188\n",
            "Epoch Step: 17 Loss: 34.251343\n",
            "Epoch Step: 21 Loss: 37.465645\n",
            "Epoch Step: 25 Loss: 34.783287\n",
            "Epoch Step: 29 Loss: 42.821907\n",
            "Epoch Step: 33 Loss: 38.654827\n",
            "Epoch Step: 37 Loss: 36.932487\n",
            "Epoch Step: 41 Loss: 35.197594\n",
            "Epoch Step: 45 Loss: 34.489597\n",
            "Epoch Step: 1 Loss: 35.462872\n",
            "Epoch Step: 5 Loss: 32.008667\n",
            "Epoch Step: 9 Loss: 32.522858\n",
            "Epoch Step: 13 Loss: 36.995213\n",
            "Epoch Step: 17 Loss: 36.220993\n",
            "Epoch Step: 21 Loss: 32.784473\n",
            "Epoch Step: 25 Loss: 35.443466\n",
            "Epoch Step: 29 Loss: 37.609673\n",
            "Epoch Step: 33 Loss: 33.441013\n",
            "Epoch Step: 37 Loss: 34.706894\n",
            "Epoch Step: 41 Loss: 29.716595\n",
            "Epoch Step: 45 Loss: 33.947468\n",
            "Epoch Step: 1 Loss: 38.492973\n",
            "Epoch Step: 5 Loss: 33.954678\n",
            "Epoch Step: 9 Loss: 34.013138\n",
            "Epoch Step: 13 Loss: 33.730221\n",
            "Epoch Step: 17 Loss: 33.362991\n",
            "Epoch Step: 21 Loss: 35.049835\n",
            "Epoch Step: 25 Loss: 37.779484\n",
            "Epoch Step: 29 Loss: 33.325439\n",
            "Epoch Step: 33 Loss: 34.074478\n",
            "Epoch Step: 37 Loss: 34.463280\n",
            "Epoch Step: 41 Loss: 30.283546\n",
            "Epoch Step: 45 Loss: 34.026733\n",
            "Epoch Step: 1 Loss: 38.235012\n",
            "Epoch Step: 5 Loss: 34.883171\n",
            "Epoch Step: 9 Loss: 31.115952\n",
            "Epoch Step: 13 Loss: 33.573158\n",
            "Epoch Step: 17 Loss: 33.597336\n",
            "Epoch Step: 21 Loss: 34.080101\n",
            "Epoch Step: 25 Loss: 35.533585\n",
            "Epoch Step: 29 Loss: 30.758400\n",
            "Epoch Step: 33 Loss: 30.924278\n",
            "Epoch Step: 37 Loss: 33.369610\n",
            "Epoch Step: 41 Loss: 30.745541\n",
            "Epoch Step: 45 Loss: 34.250275\n",
            "Epoch Step: 1 Loss: 31.234671\n",
            "Epoch Step: 5 Loss: 34.163277\n",
            "Epoch Step: 9 Loss: 38.057331\n",
            "Epoch Step: 13 Loss: 33.628849\n",
            "Epoch Step: 17 Loss: 35.139076\n",
            "Epoch Step: 21 Loss: 34.058437\n",
            "Epoch Step: 25 Loss: 34.843636\n",
            "Epoch Step: 29 Loss: 33.771416\n",
            "Epoch Step: 33 Loss: 33.334782\n",
            "Epoch Step: 37 Loss: 34.751511\n",
            "Epoch Step: 41 Loss: 38.142746\n",
            "Epoch Step: 45 Loss: 37.195419\n",
            "Epoch Step: 1 Loss: 34.190292\n",
            "Epoch Step: 5 Loss: 30.198481\n",
            "Epoch Step: 9 Loss: 37.725609\n",
            "Epoch Step: 13 Loss: 32.329781\n",
            "Epoch Step: 17 Loss: 33.296074\n",
            "Epoch Step: 21 Loss: 32.944588\n",
            "Epoch Step: 25 Loss: 34.550835\n",
            "Epoch Step: 29 Loss: 38.681614\n",
            "Epoch Step: 33 Loss: 37.347427\n",
            "Epoch Step: 37 Loss: 33.338833\n",
            "Epoch Step: 41 Loss: 33.907990\n",
            "Epoch Step: 45 Loss: 36.697395\n",
            "Epoch Step: 1 Loss: 31.947571\n",
            "Epoch Step: 5 Loss: 43.062008\n",
            "Epoch Step: 9 Loss: 35.429573\n",
            "Epoch Step: 13 Loss: 30.920994\n",
            "Epoch Step: 17 Loss: 33.932442\n",
            "Epoch Step: 21 Loss: 31.542480\n",
            "Epoch Step: 25 Loss: 35.565453\n",
            "Epoch Step: 29 Loss: 33.127415\n",
            "Epoch Step: 33 Loss: 33.138611\n",
            "Epoch Step: 37 Loss: 31.652920\n",
            "Epoch Step: 41 Loss: 34.321285\n",
            "Epoch Step: 45 Loss: 29.792082\n",
            "Epoch Step: 1 Loss: 30.984970\n",
            "Epoch Step: 5 Loss: 31.416666\n",
            "Epoch Step: 9 Loss: 31.833138\n",
            "Epoch Step: 13 Loss: 35.219879\n",
            "Epoch Step: 17 Loss: 29.074181\n",
            "Epoch Step: 21 Loss: 37.120270\n",
            "Epoch Step: 25 Loss: 31.981552\n",
            "Epoch Step: 29 Loss: 31.668213\n",
            "Epoch Step: 33 Loss: 29.103348\n",
            "Epoch Step: 37 Loss: 31.418818\n",
            "Epoch Step: 41 Loss: 40.432709\n",
            "Epoch Step: 45 Loss: 31.782028\n"
          ],
          "name": "stdout"
        }
      ]
    },
    {
      "cell_type": "markdown",
      "metadata": {
        "id": "7DPLBIXthJOw"
      },
      "source": [
        "## Evaluation"
      ]
    },
    {
      "cell_type": "code",
      "metadata": {
        "colab": {
          "base_uri": "https://localhost:8080/",
          "height": 1000
        },
        "id": "WfwPTA4ehHa1",
        "outputId": "a818641c-b177-4c40-c666-355a373e1e7b"
      },
      "source": [
        "def greedy_decode(model, src, src_mask, max_len, start_symbol):\n",
        "  memory = model.encode(src, src_mask)\n",
        "  print(memory.size())\n",
        "  print(memory)\n",
        "  ys = torch.ones(1, 1).fill_(start_symbol).type_as(src.data)\n",
        "  for i in range(max_len-1):\n",
        "    out = model.decode(memory, src_mask, Variable(ys).long(), Variable(subsequent_mask(ys.size(1))).type_as(src.data))\n",
        "    prob = model.generator(out[:,-1])\n",
        "    _, next_word = torch.max(prob, dim=1)\n",
        "    next_word = next_word.data[0]\n",
        "    ys = torch.cat([ys, torch.ones(1, 1).type_as(src.data).fill_(next_word)], dim=1)\n",
        "  return ys\n",
        "\n",
        "val_dataset = EquationDataset(\"formulas.zip\", \"formulas.txt\", \"val.txt\", transforms.Compose([\n",
        "    transforms.ToPILImage(),\n",
        "    transforms.ToTensor(),\n",
        "    transforms.Grayscale()\n",
        "  ]), file_ext='.png')\n",
        "\n",
        "val_loader = DataLoader(val_dataset, shuffle=True, num_workers=0, batch_size=1, pin_memory=True)\n",
        "\n",
        "for i, (src, src_mask, trg, trg_y, trg_mask) in enumerate(val_loader):\n",
        "  src = src.cuda(non_blocking=True)\n",
        "  out = greedy_decode(model, src, None, max_len=60, start_symbol=parser.SOS)\n",
        "  print(\"Original image:\")\n",
        "  display(src)\n",
        "  print()\n",
        "  for i in range(1, out.size(1)):\n",
        "    sym = parser.index2word[int(out[0, i].item())]\n",
        "    if sym == \"EOS\": break\n",
        "    print(sym, end=\" \")\n",
        "  print()"
      ],
      "execution_count": 18,
      "outputs": [
        {
          "output_type": "stream",
          "text": [
            "torch.Size([1, 42, 512])\n",
            "tensor([[[ 1.1360,  0.2139,  0.2271,  ..., -0.1285,  0.1905, -0.8327],\n",
            "         [ 1.1865,  0.1861,  0.2628,  ..., -0.1334,  0.1870, -0.8434],\n",
            "         [ 1.1967,  0.1317,  0.2571,  ..., -0.1319,  0.1854, -0.8484],\n",
            "         ...,\n",
            "         [ 1.2195,  0.1455,  0.2312,  ..., -0.0660,  0.1991, -0.7387],\n",
            "         [ 1.2147,  0.1009,  0.2701,  ..., -0.0672,  0.1996, -0.7400],\n",
            "         [ 1.1751,  0.0865,  0.2768,  ..., -0.0784,  0.1984, -0.7349]]],\n",
            "       device='cuda:0', grad_fn=<AddBackward0>)\n",
            "Original image:\n"
          ],
          "name": "stdout"
        },
        {
          "output_type": "display_data",
          "data": {
            "image/png": "[encoded data removed]",
            "text/plain": [
              "<Figure size 576x576 with 1 Axes>"
            ]
          },
          "metadata": {
            "tags": []
          }
        },
        {
          "output_type": "stream",
          "text": [
            "\n",
            "7 2 5 2 5 \n",
            "torch.Size([1, 42, 512])\n",
            "tensor([[[ 1.1360,  0.2139,  0.2271,  ..., -0.1285,  0.1905, -0.8327],\n",
            "         [ 1.1865,  0.1861,  0.2629,  ..., -0.1334,  0.1870, -0.8434],\n",
            "         [ 1.1967,  0.1317,  0.2571,  ..., -0.1319,  0.1855, -0.8484],\n",
            "         ...,\n",
            "         [ 1.2195,  0.1455,  0.2312,  ..., -0.0660,  0.1991, -0.7387],\n",
            "         [ 1.2147,  0.1009,  0.2701,  ..., -0.0672,  0.1996, -0.7400],\n",
            "         [ 1.1751,  0.0865,  0.2768,  ..., -0.0784,  0.1984, -0.7349]]],\n",
            "       device='cuda:0', grad_fn=<AddBackward0>)\n",
            "Original image:\n"
          ],
          "name": "stdout"
        },
        {
          "output_type": "display_data",
          "data": {
            "image/png": "[encoded data removed]",
            "text/plain": [
              "<Figure size 576x576 with 1 Axes>"
            ]
          },
          "metadata": {
            "tags": []
          }
        },
        {
          "output_type": "stream",
          "text": [
            "\n",
            "7 2 5 2 5 \n",
            "torch.Size([1, 42, 512])\n",
            "tensor([[[ 1.1360,  0.2139,  0.2271,  ..., -0.1285,  0.1905, -0.8327],\n",
            "         [ 1.1865,  0.1861,  0.2628,  ..., -0.1334,  0.1870, -0.8434],\n",
            "         [ 1.1967,  0.1317,  0.2571,  ..., -0.1319,  0.1855, -0.8484],\n",
            "         ...,\n",
            "         [ 1.2195,  0.1455,  0.2312,  ..., -0.0660,  0.1991, -0.7387],\n",
            "         [ 1.2147,  0.1009,  0.2701,  ..., -0.0672,  0.1996, -0.7400],\n",
            "         [ 1.1751,  0.0865,  0.2768,  ..., -0.0784,  0.1984, -0.7349]]],\n",
            "       device='cuda:0', grad_fn=<AddBackward0>)\n",
            "Original image:\n"
          ],
          "name": "stdout"
        },
        {
          "output_type": "display_data",
          "data": {
            "image/png": "[encoded data removed]",
            "text/plain": [
              "<Figure size 576x576 with 1 Axes>"
            ]
          },
          "metadata": {
            "tags": []
          }
        },
        {
          "output_type": "stream",
          "text": [
            "\n",
            "7 2 5 2 5 \n",
            "torch.Size([1, 42, 512])\n",
            "tensor([[[ 1.1360,  0.2139,  0.2271,  ..., -0.1285,  0.1905, -0.8327],\n",
            "         [ 1.1865,  0.1861,  0.2628,  ..., -0.1333,  0.1870, -0.8435],\n",
            "         [ 1.1967,  0.1317,  0.2571,  ..., -0.1318,  0.1854, -0.8484],\n",
            "         ...,\n",
            "         [ 1.2195,  0.1455,  0.2312,  ..., -0.0660,  0.1991, -0.7387],\n",
            "         [ 1.2147,  0.1009,  0.2701,  ..., -0.0672,  0.1996, -0.7400],\n",
            "         [ 1.1751,  0.0865,  0.2768,  ..., -0.0784,  0.1984, -0.7350]]],\n",
            "       device='cuda:0', grad_fn=<AddBackward0>)\n",
            "Original image:\n"
          ],
          "name": "stdout"
        },
        {
          "output_type": "display_data",
          "data": {
            "image/png": "[encoded data removed]",
            "text/plain": [
              "<Figure size 576x576 with 1 Axes>"
            ]
          },
          "metadata": {
            "tags": []
          }
        },
        {
          "output_type": "stream",
          "text": [
            "\n",
            "7 2 5 2 5 \n",
            "torch.Size([1, 42, 512])\n",
            "tensor([[[ 1.1360,  0.2139,  0.2271,  ..., -0.1285,  0.1905, -0.8327],\n",
            "         [ 1.1865,  0.1861,  0.2629,  ..., -0.1334,  0.1870, -0.8434],\n",
            "         [ 1.1967,  0.1317,  0.2571,  ..., -0.1319,  0.1855, -0.8483],\n",
            "         ...,\n",
            "         [ 1.2195,  0.1455,  0.2312,  ..., -0.0660,  0.1991, -0.7387],\n",
            "         [ 1.2147,  0.1009,  0.2701,  ..., -0.0672,  0.1996, -0.7399],\n",
            "         [ 1.1751,  0.0865,  0.2768,  ..., -0.0784,  0.1984, -0.7349]]],\n",
            "       device='cuda:0', grad_fn=<AddBackward0>)\n",
            "Original image:\n"
          ],
          "name": "stdout"
        },
        {
          "output_type": "display_data",
          "data": {
            "image/png": "[encoded data removed]",
            "text/plain": [
              "<Figure size 576x576 with 1 Axes>"
            ]
          },
          "metadata": {
            "tags": []
          }
        },
        {
          "output_type": "stream",
          "text": [
            "\n",
            "7 2 5 2 5 \n"
          ],
          "name": "stdout"
        }
      ]
    },
    {
      "cell_type": "code",
      "metadata": {
        "id": "h1la30CVcecm"
      },
      "source": [
        "def count_parameters(model):\n",
        "    return sum(p.numel() for p in model.parameters() if p.requires_grad)"
      ],
      "execution_count": 20,
      "outputs": []
    },
    {
      "cell_type": "code",
      "metadata": {
        "colab": {
          "base_uri": "https://localhost:8080/"
        },
        "id": "GbcYeEXqckX4",
        "outputId": "069e9855-dc51-4b70-ab32-007b8545d297"
      },
      "source": [
        "count_parameters(model)"
      ],
      "execution_count": 23,
      "outputs": [
        {
          "output_type": "execute_result",
          "data": {
            "text/plain": [
              "20304158"
            ]
          },
          "metadata": {
            "tags": []
          },
          "execution_count": 23
        }
      ]
    }
  ]
}