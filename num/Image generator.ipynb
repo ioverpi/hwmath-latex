{
 "cells": [
  {
   "cell_type": "code",
   "execution_count": 9,
   "metadata": {},
   "outputs": [],
   "source": [
    "# Get torch modules and others.\n",
    "import torch\n",
    "import torch.nn as nn\n",
    "import torch.nn.functional as F\n",
    "import torch.optim as optim\n",
    "from torch.utils.data import Dataset, DataLoader\n",
    "import numpy as np\n",
    "import matplotlib.pyplot as plt\n",
    "from torchvision import transforms, utils, datasets\n",
    "from tqdm import tqdm\n",
    "import copy, math, time\n",
    "from torch.nn.parameter import Parameter\n",
    "from torch.autograd import Variable\n",
    "from PIL import Image\n",
    "import io, os, zipfile, csv\n",
    "from torch.utils.data.sampler import SubsetRandomSampler\n",
    "import pdb\n",
    "from random import randint\n",
    "import string, random"
   ]
  },
  {
   "cell_type": "code",
   "execution_count": 2,
   "metadata": {},
   "outputs": [],
   "source": [
    "numbers = datasets.MNIST(\".\\\\MNIST\\\\\", download=True, transform=transforms.Compose([\n",
    "    transforms.ToTensor(),\n",
    "    #transforms.Grayscale()\n",
    "]))"
   ]
  },
  {
   "cell_type": "code",
   "execution_count": 3,
   "metadata": {},
   "outputs": [],
   "source": [
    "toPIL = transforms.ToPILImage()  \n",
    "\n",
    "def display(tensor, title=None):\n",
    "    image = tensor.cpu().clone()  \n",
    "    image = image.squeeze(0)    \n",
    "    image = toPIL(image)\n",
    "    plt.figure(figsize=(8, 8))\n",
    "    plt.imshow(image, cmap=\"gray\")\n",
    "    plt.xticks([])\n",
    "    plt.yticks([])\n",
    "    if title is not None:\n",
    "        plt.title(title)\n",
    "    plt.show()"
   ]
  },
  {
   "cell_type": "code",
   "execution_count": 4,
   "metadata": {},
   "outputs": [],
   "source": [
    "def rand_name():\n",
    "    return ''.join(random.choices(string.ascii_letters + string.digits, k=16))"
   ]
  },
  {
   "cell_type": "code",
   "execution_count": 5,
   "metadata": {
    "scrolled": false
   },
   "outputs": [
    {
     "data": {
      "image/png": "[encoded data removed]",
      "text/plain": [
       "<Figure size 576x576 with 1 Axes>"
      ]
     },
     "metadata": {},
     "output_type": "display_data"
    }
   ],
   "source": [
    "display(torch.cat((numbers[2][0], numbers[3][0], numbers[4][0], numbers[5][0]), dim=2))"
   ]
  },
  {
   "cell_type": "code",
   "execution_count": 6,
   "metadata": {},
   "outputs": [],
   "source": [
    "def get_rand_num(length=4):\n",
    "    n = len(numbers)\n",
    "    c = [randint(0, n) for i in range(length)]\n",
    "    rand_tensors = [numbers[c[i]][0] for i in range(length)]\n",
    "    rand_string = \" \".join([str(numbers[c[i]][1]) for i in range(length)])\n",
    "    return torch.cat(rand_tensors, dim=2), rand_string"
   ]
  },
  {
   "cell_type": "code",
   "execution_count": 7,
   "metadata": {},
   "outputs": [
    {
     "data": {
      "image/png": "[encoded data removed]",
      "text/plain": [
       "<Figure size 576x576 with 1 Axes>"
      ]
     },
     "metadata": {},
     "output_type": "display_data"
    },
    {
     "name": "stdout",
     "output_type": "stream",
     "text": [
      "0 8 5 7\n"
     ]
    }
   ],
   "source": [
    "data = get_rand_num()\n",
    "display(data[0])\n",
    "print(data[1])"
   ]
  },
  {
   "cell_type": "code",
   "execution_count": 14,
   "metadata": {},
   "outputs": [],
   "source": [
    "file = \"train.txt\"\n",
    "formula_file = \"formulas.txt\"\n",
    "file_data = list()\n",
    "formula_data = list()\n",
    "for i in range(200):\n",
    "    the_num = get_rand_num()\n",
    "    image_name = rand_name()\n",
    "    rand_file = \".\\\\formulas\\\\\" + image_name + \".png\"\n",
    "    file_data.append(f\"{i} {image_name}\")\n",
    "    formula_data.append(the_num[1])\n",
    "    utils.save_image(the_num[0], rand_file)\n",
    "    \n",
    "with open(file, 'w') as file:\n",
    "    file.write(\"\\n\".join(file_data))\n",
    "    \n",
    "with open(formula_file, 'w') as file:\n",
    "    file.write(\"\\n\".join(formula_data))"
   ]
  }
 ],
 "metadata": {
  "kernelspec": {
   "display_name": "Python 3",
   "language": "python",
   "name": "python3"
  },
  "language_info": {
   "codemirror_mode": {
    "name": "ipython",
    "version": 3
   },
   "file_extension": ".py",
   "mimetype": "text/x-python",
   "name": "python",
   "nbconvert_exporter": "python",
   "pygments_lexer": "ipython3",
   "version": "3.7.4"
  }
 },
 "nbformat": 4,
 "nbformat_minor": 2
}
