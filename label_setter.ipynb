{
 "cells": [
  {
   "cell_type": "code",
   "execution_count": 72,
   "metadata": {},
   "outputs": [],
   "source": [
    "import os, random, string, csv"
   ]
  },
  {
   "cell_type": "markdown",
   "metadata": {},
   "source": [
    "# HE2LaTex dataset files\n",
    "\n",
    "Tags used in this dataset:\n",
    "\n",
    "`\n",
    "'0', '1', '2', '3', '4', '5', '6', '7', '8', '9', '-', '+', '=', '#leq', '#neq', '#geq', '#alpha', '#beta', '#lambda', '#lt', '#gt', 'x', 'y', '^', '#frac', '{', '}' ,' '\n",
    "`"
   ]
  },
  {
   "cell_type": "code",
   "execution_count": 28,
   "metadata": {},
   "outputs": [],
   "source": [
    "my_lines = [\"hello\", \"goodbye\", \"how are you?\"]\n",
    "with open(\"test.txt\", 'w') as file:\n",
    "    file.write(\"\\n\".join(my_lines))"
   ]
  },
  {
   "cell_type": "code",
   "execution_count": 41,
   "metadata": {
    "scrolled": false
   },
   "outputs": [],
   "source": [
    "file_root = \".\\simpleequations\"\n",
    "actual_root = \"C:\\\\Users\\\\kello\\\\cs474\\\\finalproject\"\n",
    "i = 0\n",
    "for root, dirs, files in os.walk(file_root):\n",
    "    for name in files:\n",
    "        #print(os.path.join(actual_root, \"simpleequations\", name))\n",
    "        #print(os.path.join(actual_root, \"batch1\", f\"{i}.jpg\"))\n",
    "        os.rename(os.path.join(actual_root, \"simpleequations\", name), os.path.join(actual_root, \"batch1\", f\"{i}.jpg\"))\n",
    "        i += 1"
   ]
  },
  {
   "cell_type": "code",
   "execution_count": 79,
   "metadata": {},
   "outputs": [],
   "source": [
    "def load_in_equations(source_folder,\n",
    "                      dest_folder,\n",
    "                      formula_file=\"formulas.txt\", \n",
    "                      index_file=\"train.txt\",\n",
    "                      actual_root = \"C:\\\\Users\\\\kello\\\\cs474\\\\finalproject\"):\n",
    "    equations = list()\n",
    "    with open(formula_file, 'r') as file:\n",
    "        equations = file.read().splitlines()\n",
    "    i = len(equations)\n",
    "    \n",
    "    with open(index_file, 'r') as file:\n",
    "        indices = file.read().splitlines()\n",
    "    \n",
    "    for root, dirs, files in os.walk(os.path.join(actual_root, source_folder)):\n",
    "        for name in files:\n",
    "            x = rand_name()\n",
    "            os.rename(os.path.join(actual_root, source_folder, name), os.path.join(actual_root, dest_folder, f\"{x}.jpg\"))\n",
    "            equations.append(\" \".join(parse_str(name.split(\"_\")[0])))\n",
    "            indices.append(f\"{i} {x}\")\n",
    "            i += 1\n",
    "    \n",
    "    with open(formula_file, 'w') as file:\n",
    "        file.write(\"\\n\".join(equations))\n",
    "        \n",
    "    with open(index_file, 'w') as file:\n",
    "        file.write(\"\\n\".join(indices))"
   ]
  },
  {
   "cell_type": "code",
   "execution_count": 81,
   "metadata": {},
   "outputs": [
    {
     "name": "stdout",
     "output_type": "stream",
     "text": [
      "['0', 'fjTJXfMgikW6IJa4']\n",
      "['1', 'nKHXYiKXvqBCaFDa']\n",
      "['2', 'bdOL2FdPnVTGmKll']\n",
      "['3', 'U9Sq2QUwOlZKAcrE']\n",
      "['4', 'KM4LbJKZP2QwCXuk']\n",
      "['5', 'JiiTUfJcIZjfJxon']\n",
      "['6', '454LIraQmtTGTYJJ']\n",
      "['7', 'sgDCftWVjvXGoMTH']\n",
      "['8', 'WfElGKBDwM5lOpUu']\n",
      "['9', 'MfnKVMUL6NGTHsvK']\n",
      "['10', '1NgXTwZ1AWQiIqQp']\n",
      "['11', 'fDZAurHEKvyMlafI']\n",
      "['12', 'h9xep0M0RVXuLCVc']\n",
      "['13', 'PWZtCRcTj6YEfAa8']\n",
      "['14', 'gRd62uBiihsIwW2X']\n",
      "['15', 'oosYZVQHT6oM1j0Z']\n",
      "['16', 'Q5JqnM5HdcdHsfu5']\n",
      "['17', '9KAs7k5FEyNCQ5R1']\n",
      "['18', '5qmJXO1htOPFK9M6']\n",
      "['19', 'tZn2qsssVNcHwF47']\n",
      "['20', 'adUTEE0jq2SWibpe']\n",
      "['21', '8AnL3Yy4sdzE9x8X']\n",
      "['22', 'rj0mDhqGTu0nlCd9']\n",
      "['23', 'vO5jGPY5uIE16JbW']\n",
      "['24', 'PB2q4MHm2ikNtSnS']\n",
      "['25', 'kK4xwJMKS4OxOFnS']\n",
      "['26', 'uV5f3XbJXZcMvTNy']\n",
      "['27', 'C4vtc3nLv1jKkP1x']\n",
      "['28', 'sOm9rc4yRJpYpbBm']\n",
      "['29', 'JSlUdUKEBoQBOiHs']\n",
      "['30', 'K7Z2s2VVJUAZ6t1b']\n",
      "['31', 'G1s762gbWQf6kjxk']\n",
      "['32', 'HntDr0EDBbTjricO']\n",
      "['33', 'Y2YJQcx6rAhvOLtJ']\n",
      "['34', 'CCha9DpHqwVuaxhJ']\n",
      "['35', 'EWWuMbo268fJTjOd']\n",
      "['36', 'kEDZg7FiuGg08UoU']\n",
      "['37', 'TNTbAGPh3H48RmC0']\n",
      "['38', '4p34WepJcYOyLoCj']\n",
      "['39', 'zTo8wFXq4K0Vq5Qh']\n",
      "['40', 'o98rSd8rC7rCSqX9']\n",
      "['41', 'o6jwRnIT6LVG96tx']\n",
      "['42', 'U2lR7FlDQ2Tjf0Gs']\n",
      "['43', '8mWyRmpyMzTTVxVN']\n",
      "['44', 'X9lg1LMpnNGrzPfv']\n",
      "['45', 'ZGT5G2iUS3jpmphc']\n",
      "['46', 'oDCev77I0r63Jtaf']\n",
      "['47', 'thRBQ0zD2rk8jfkL']\n",
      "['48', 'o5aYS2lQkVDT6WBK']\n",
      "['49', 'M4c6ndIypJnZXEUB']\n",
      "['50', 'vxNaL7zMT1CSYYpE']\n",
      "['51', 'pamjnplK4DEVhtlM']\n",
      "['52', 'M2TRE2HYhAs3EWYM']\n",
      "['53', 'hiJDM8XbwQyXecBE']\n",
      "['54', 'AQAOFswEKxLFZ6VD']\n",
      "['55', 'Qtj4p7mEcnURbEHr']\n",
      "['56', 'mmRkUskPNJj5tkTe']\n",
      "['57', 'hMiAdCZeb5p5TfRd']\n",
      "['58', 'acTN5ATbSYFpZ5l3']\n",
      "['59', 'qX4fyWsBBSr3tGuO']\n",
      "['60', 'v0HK9CsamGj5tXXk']\n",
      "['61', 'EAD2yz44u5n3Sz3o']\n",
      "['62', 'WSCVEymtZFMnGgHq']\n",
      "['63', 'jfkG6r7vRollVkPm']\n",
      "['64', 'sMtIO7gBCgOAvwMP']\n",
      "['65', 'Qf46BBvMOIWX2lf5']\n",
      "['66', '9Z7rUXn06ZOBzPiD']\n",
      "['67', 'AQiHbERX9FCAh0QU']\n",
      "['68', 'UvHl9oZKcoGszxHP']\n",
      "['69', 'pJKhXAx4ZJ9PdDuV']\n",
      "['70', 'X6VXxOaUvGgw2WcF']\n"
     ]
    }
   ],
   "source": [
    "with open(\"train.txt\") as file:\n",
    "    reader = csv.reader(file, delimiter=\" \")\n",
    "    for row in reader:\n",
    "        print(row)"
   ]
  },
  {
   "cell_type": "code",
   "execution_count": 83,
   "metadata": {},
   "outputs": [],
   "source": [
    "load_in_equations(\"HE2LaTex\\\\few_test_eq\\\\test\\\\simple\", \"finalproject\\\\he2latex_formulas\", actual_root=\"C:\\\\Users\\\\kello\\\\cs474\")"
   ]
  },
  {
   "cell_type": "code",
   "execution_count": 76,
   "metadata": {},
   "outputs": [
    {
     "data": {
      "text/plain": [
       "'C:\\\\Users\\\\kello\\\\cs474\\\\HE2LaTex\\\\formulas\\\\test\\\\simple'"
      ]
     },
     "execution_count": 76,
     "metadata": {},
     "output_type": "execute_result"
    }
   ],
   "source": [
    "os.path.join(\"C:\\\\Users\\\\kello\\\\cs474\", \"HE2LaTex\\\\formulas\\\\test\\\\simple\")"
   ]
  },
  {
   "cell_type": "code",
   "execution_count": 69,
   "metadata": {},
   "outputs": [
    {
     "data": {
      "text/plain": [
       "'blah\\nbax\\nfoo'"
      ]
     },
     "execution_count": 69,
     "metadata": {},
     "output_type": "execute_result"
    }
   ],
   "source": [
    "blah = [\"blah\", \"bax\", \"foo\"]\n",
    "\"\\n\".join(blah)"
   ]
  },
  {
   "cell_type": "code",
   "execution_count": null,
   "metadata": {},
   "outputs": [],
   "source": [
    "with open(\"batch1.txt\", \"w\") as file:\n",
    "    file.write(\"\\n\".join(lines))"
   ]
  },
  {
   "cell_type": "code",
   "execution_count": 61,
   "metadata": {},
   "outputs": [
    {
     "name": "stdout",
     "output_type": "stream",
     "text": [
      "\\frac { 9 9 5 } { 2 7 0 } \\alpha ^ { 4 } - 5 8 1 \\geq 3 9 8\n"
     ]
    }
   ],
   "source": [
    "my_str = r\"#frac{995}{270}#alpha^4-581 #geq 398\"\n",
    "\n",
    "def parse_str(string, parse_token=\"\\\\\"):\n",
    "    result = list()\n",
    "    slash_token = \"#\"\n",
    "    i = 0\n",
    "    while i < len(string):\n",
    "        if string[i] == slash_token:\n",
    "            tok = \"\\\\\"\n",
    "            while string[i+1].isalpha():\n",
    "                tok += string[i+1]\n",
    "                i += 1\n",
    "            result.append(tok)\n",
    "            \n",
    "        elif string[i] == \"{\":\n",
    "            result.append(\"{\")\n",
    "            \n",
    "        elif string[i] == \"}\":\n",
    "            result.append(\"}\")\n",
    "            \n",
    "        elif string[i].isnumeric():\n",
    "            result.append(string[i])\n",
    "            \n",
    "        elif string[i] == \"-\":\n",
    "            result.append(\"-\")\n",
    "            \n",
    "        elif string[i] == \"+\":\n",
    "            result.append(\"+\")\n",
    "            \n",
    "        elif string[i] == \"=\":\n",
    "            result.append(\"=\")\n",
    "            \n",
    "        elif string[i] == \"^\":\n",
    "            result.append(\"^\")\n",
    "            while string[i+1].isspace():\n",
    "                i += 1\n",
    "            if string[i+1] != \"{\":\n",
    "                result.append(\"{\")\n",
    "                result.append(string[i+1])\n",
    "                result.append(\"}\")\n",
    "                i += 1\n",
    "            \n",
    "        \n",
    "        i += 1\n",
    "    \n",
    "    return result\n",
    "\n",
    "print(\" \".join(parse_str(my_str)))"
   ]
  },
  {
   "cell_type": "code",
   "execution_count": 62,
   "metadata": {},
   "outputs": [],
   "source": [
    "def rand_name():\n",
    "    return ''.join(random.choices(string.ascii_letters + string.digits, k=16))"
   ]
  },
  {
   "cell_type": "code",
   "execution_count": 51,
   "metadata": {},
   "outputs": [
    {
     "data": {
      "text/plain": [
       "'eYUJH2KtuHZNJsgZ'"
      ]
     },
     "execution_count": 51,
     "metadata": {},
     "output_type": "execute_result"
    }
   ],
   "source": [
    "rand_name()"
   ]
  }
 ],
 "metadata": {
  "kernelspec": {
   "display_name": "Python 3",
   "language": "python",
   "name": "python3"
  },
  "language_info": {
   "codemirror_mode": {
    "name": "ipython",
    "version": 3
   },
   "file_extension": ".py",
   "mimetype": "text/x-python",
   "name": "python",
   "nbconvert_exporter": "python",
   "pygments_lexer": "ipython3",
   "version": "3.7.4"
  }
 },
 "nbformat": 4,
 "nbformat_minor": 2
}
